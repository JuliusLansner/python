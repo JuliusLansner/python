{
 "cells": [
  {
   "cell_type": "code",
   "execution_count": 10,
   "metadata": {},
   "outputs": [
    {
     "name": "stdout",
     "output_type": "stream",
     "text": [
      "buenos aires.jpg\n",
      "hennai.jpg\n",
      "yderabad.jpg\n",
      "miami.jpg\n",
      "sydney.jpg\n",
      "athens.jpg\n",
      "seoul.jpg\n",
      "austin.jpg\n",
      "ithaca.jpg\n",
      "colombo.jpg\n",
      "london.jpg\n",
      "sao paulo.jpg\n",
      "singapore.jpg\n",
      "sunnyvale.jpg\n",
      "stanbul.jpg\n",
      "san diego.jpg\n",
      "new york.jpg\n",
      "dallas.jpg\n",
      "kiev.jpg\n",
      "ogota.jpg\n",
      "edinbrugh.jpg\n",
      "seattle.jpg\n",
      "san jose.jpg\n",
      "pune.jpg\n",
      "chicago.jpg\n",
      "shanghai.jpg\n",
      "bangalore.jpg\n",
      "bucharest.jpg\n",
      "delhi.jpg\n",
      "tel aviv.jpg\n",
      "gainesville.jpg\n",
      "jacksonville.jpg\n",
      "berkeley.jpg\n",
      "beijing.jpg\n",
      "manchester.jpg\n",
      "karachi.jpg\n",
      "oakland.jpg\n",
      "arcelona.jpg\n"
     ]
    }
   ],
   "source": [
    "#Taking all files from the folder, renaming files with 3 or more characters(to avoid problems due to file name)\n",
    "import os\n",
    "path = \"C:\\\\Users\\\\AxiiS\\\\Downloads\\\\prank\\\\prank\"\n",
    "\n",
    "files = os.listdir(path)\n",
    "\n",
    "for file in files:\n",
    "    if len(file) > 3:\n",
    "        new_name = file[2:]\n",
    "        print(new_name)\n",
    "        old_path = os.path.join(path,file)\n",
    "        new_path = os.path.join(path,new_name)\n",
    "    \n",
    "        os.rename(old_path, new_path)"
   ]
  }
 ],
 "metadata": {
  "kernelspec": {
   "display_name": "base",
   "language": "python",
   "name": "python3"
  },
  "language_info": {
   "codemirror_mode": {
    "name": "ipython",
    "version": 3
   },
   "file_extension": ".py",
   "mimetype": "text/x-python",
   "name": "python",
   "nbconvert_exporter": "python",
   "pygments_lexer": "ipython3",
   "version": "3.11.5"
  }
 },
 "nbformat": 4,
 "nbformat_minor": 2
}
